{
 "cells": [
  {
   "cell_type": "markdown",
   "metadata": {},
   "source": [
    "# Starmind Programming Task\n",
    "- First Solution using Levenshtein library\n",
    "- Second Solution using own implementation"
   ]
  },
  {
   "cell_type": "code",
   "execution_count": 1,
   "metadata": {},
   "outputs": [],
   "source": [
    "\"\"\" How I would solve it: \"\"\"\n",
    "import csv\n",
    "\n",
    "# wrapper only because I used it a second time below\n",
    "def find_similar_names_in_csv(file_name, name, distance_function, distance):\n",
    "  \"\"\" Finds similar names in a csv file through a distance function \n",
    "  Expecting the distance function to return integers\"\"\"\n",
    "  names_arr = []\n",
    "  with open(file_name, newline='') as csvfile:\n",
    "    all_names = csv.reader(csvfile, delimiter=' ', quotechar='|')\n",
    "    for row in all_names:\n",
    "      if len(row) > 0:\n",
    "        # Depends if the names in brackets should count or not\n",
    "        raw_name = row[0].split(\"(\")[0].replace('\"','').strip()\n",
    "        if distance_function(raw_name, name) == distance:\n",
    "          names_arr.append(raw_name)\n",
    "  return set(names_arr)"
   ]
  },
  {
   "cell_type": "code",
   "execution_count": 2,
   "metadata": {},
   "outputs": [
    {
     "data": {
      "text/plain": [
       "{'Lucy', 'Luna'}"
      ]
     },
     "execution_count": 2,
     "metadata": {},
     "output_type": "execute_result"
    }
   ],
   "source": [
    "from Levenshtein import distance as levenshtein_distance\n",
    "print(\"Results from Levenshtein Distance library:\")\n",
    "find_similar_names_in_csv(\"hundenamen.csv\", \"Luca\", levenshtein_distance, 1)"
   ]
  },
  {
   "cell_type": "code",
   "execution_count": 3,
   "metadata": {},
   "outputs": [],
   "source": [
    "\"\"\" My own implementation of levenshtein distance from the top of my head (just because it's fun): \"\"\"\n",
    "import numpy as np\n",
    "\n",
    "def update_2x2_matrix(arr, char1, char2):\n",
    "  \"\"\" Updates the last value in the matrix with 3 values already calculated\"\"\"\n",
    "  if char1 == char2:\n",
    "    arr[1,1] = np.amin(arr)\n",
    "  else:\n",
    "    arr[1,1] = np.amin(arr) + 1\n",
    "  \n",
    "def my_levenshtein_distance(word1, word2):\n",
    "  \"\"\" Calculates the levenshtein distance through a step by step matrix calculation (Not optimized)\"\"\"\n",
    "  # Create initial matrix\n",
    "  l_matrix = np.ones([len(word1)+1, len(word2)+1]) * np.inf\n",
    "  l_matrix[:,0] = np.arange(l_matrix.shape[0])\n",
    "  l_matrix[0,:] = np.arange(l_matrix.shape[1])\n",
    "  \n",
    "  # Iterate through matrix with 2x2 convolution-ish operation\n",
    "  for i in range(l_matrix.shape[0]-1):\n",
    "    for j in range(l_matrix.shape[1]-1):\n",
    "      update_2x2_matrix(l_matrix[i:i+2, j:j+2], word1[i], word2[j])\n",
    "  \n",
    "  return int(l_matrix[-1,-1])"
   ]
  },
  {
   "cell_type": "code",
   "execution_count": 4,
   "metadata": {},
   "outputs": [
    {
     "data": {
      "text/plain": [
       "{'Lucy', 'Luna'}"
      ]
     },
     "execution_count": 4,
     "metadata": {},
     "output_type": "execute_result"
    }
   ],
   "source": [
    "print(\"Results from own Levenshtein Distance implementation:\")\n",
    "find_similar_names_in_csv(\"hundenamen.csv\", \"Luca\", my_levenshtein_distance, 1)"
   ]
  }
 ],
 "metadata": {
  "kernelspec": {
   "display_name": "Ethics",
   "language": "python",
   "name": "ethics"
  },
  "language_info": {
   "codemirror_mode": {
    "name": "ipython",
    "version": 3
   },
   "file_extension": ".py",
   "mimetype": "text/x-python",
   "name": "python",
   "nbconvert_exporter": "python",
   "pygments_lexer": "ipython3",
   "version": "3.8.2"
  }
 },
 "nbformat": 4,
 "nbformat_minor": 2
}
