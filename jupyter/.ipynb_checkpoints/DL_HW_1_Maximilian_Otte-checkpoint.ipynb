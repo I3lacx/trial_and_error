{
 "cells": [
  {
   "cell_type": "code",
   "execution_count": 19,
   "metadata": {},
   "outputs": [],
   "source": [
    "import numpy as np\n",
    "\n",
    "class neural_network():\n",
    "    \"This class defines a basic neural network structure\"\n",
    "    \n",
    "    def __init__(self, num_inputs, num_hidden1, num_hidden2, num_classes):\n",
    "        \"\"\" Initializes the network with given number of layers and pre defined weights \"\"\"\n",
    "        self.num_inputs = num_inputs\n",
    "        self.num_hidden1 = num_hidden1\n",
    "        self.num_hidden2 = num_hidden2\n",
    "        self.num_classes = num_classes\n",
    "        self.initializeWeights()\n",
    "        \n",
    "    def predict(self, single_input):\n",
    "        \"\"\"Computes the output of the neural network given the input\n",
    "        Returns a [class,2] sized vector with the certainty of the\n",
    "        prediction and the class id as a tupel\"\"\"\n",
    "        \n",
    "        layer_0 = single_input\n",
    "        layer_1 = self.activation(np.matmul(layer_0, self.w1) + self.b1)\n",
    "        layer_2 = self.activation(np.matmul(layer_1, self.w2) + self.b2)\n",
    "        layer_3 = np.matmul(layer_2, self.w3) + self.b3\n",
    "        print(\"layer0: {}\\nlayer1: {}\\nlayer2: {}\\nlayer3: {}\\n---------\"\\\n",
    "              .format(layer_0,layer_1.round(2),layer_2.round(2),layer_3.round(2)))\n",
    "        return layer_3\n",
    " \n",
    "    def activation(self, x):\n",
    "        \"\"\"The activation function is the sigmoid function\"\"\"\n",
    "        return 1/(1 + np.exp(-x))\n",
    "        \n",
    "    def update(self, loss):\n",
    "        \"\"\"Updates weights of neural network based on the given loss.\n",
    "        Updates by a predifined optimization function\"\"\"\n",
    "        pass\n",
    "    \n",
    "    def initializeWeights(self):\n",
    "        \"\"\" Initiliazes the Network with a pre defined selektion of weights\"\"\"\n",
    "        self.w1 = np.matrix('-0.20 0.48 -0.52; -0.56 1.97 1.39; 0.10 0.28 0.77; 1.25 1.01 -1.30').T\n",
    "        self.b1 = np.matrix('0.27 0.23 1.35 0.89')\n",
    "        \n",
    "        self.w2 = np.matrix('-1.00 -0.19 0.83 -0.22; -0.27 0.24 1.62 -0.51; -0.29 0.06 0.15 0.26; 0.00 0.67 -0.36 -0.42').T\n",
    "        self.b2 = np.matrix('-1.19 -0.93 -0.43 0.28')\n",
    "        \n",
    "        self.w3 = np.matrix('-0.13 0.01 -0.10 0.03; -0.24 -0.02 -0.15 -0.10').T\n",
    "        self.b3 = np.matrix('-0.13 0.03')"
   ]
  },
  {
   "cell_type": "code",
   "execution_count": 20,
   "metadata": {},
   "outputs": [],
   "source": [
    "def main():\n",
    "    x = np.matrix('0.13 0.68 0.80 0.57 0.97; 0.63 0.89 0.50 0.35 0.71; 0.50 0.23 0.24 0.79 0.50').T\n",
    "    nn = neural_network(3,4,4,2)\n",
    "    for instance in x:\n",
    "        nn.predict(instance)\n",
    "\n",
    "def __init__():\n",
    "    main()"
   ]
  },
  {
   "cell_type": "code",
   "execution_count": 21,
   "metadata": {},
   "outputs": [
    {
     "name": "stdout",
     "output_type": "stream",
     "text": [
      "layer0: [[0.13 0.63 0.5 ]]\n",
      "layer1: [[0.57 0.89 0.87 0.74]]\n",
      "layer2: [[0.2  0.54 0.45 0.56]]\n",
      "layer3: [[-0.18 -0.15]]\n",
      "---------\n",
      "layer0: [[0.68 0.89 0.23]]\n",
      "layer1: [[0.61 0.87 0.86 0.91]]\n",
      "layer2: [[0.19 0.51 0.45 0.54]]\n",
      "layer3: [[-0.18 -0.15]]\n",
      "---------\n",
      "layer0: [[0.8  0.5  0.24]]\n",
      "layer1: [[0.56 0.75 0.85 0.89]]\n",
      "layer2: [[0.2  0.51 0.45 0.53]]\n",
      "layer3: [[-0.18 -0.15]]\n",
      "---------\n",
      "layer0: [[0.57 0.35 0.79]]\n",
      "layer1: [[0.48 0.85 0.89 0.72]]\n",
      "layer2: [[0.22 0.56 0.45 0.56]]\n",
      "layer3: [[-0.18 -0.16]]\n",
      "---------\n",
      "layer0: [[0.97 0.71 0.5 ]]\n",
      "layer1: [[0.54 0.86 0.88 0.9 ]]\n",
      "layer2: [[0.2  0.53 0.46 0.54]]\n",
      "layer3: [[-0.18 -0.15]]\n",
      "---------\n"
     ]
    }
   ],
   "source": [
    "__init__()"
   ]
  },
  {
   "cell_type": "code",
   "execution_count": null,
   "metadata": {},
   "outputs": [],
   "source": []
  }
 ],
 "metadata": {
  "kernelspec": {
   "display_name": "Python 3",
   "language": "python",
   "name": "python3"
  },
  "language_info": {
   "codemirror_mode": {
    "name": "ipython",
    "version": 3
   },
   "file_extension": ".py",
   "mimetype": "text/x-python",
   "name": "python",
   "nbconvert_exporter": "python",
   "pygments_lexer": "ipython3",
   "version": "3.6.4"
  }
 },
 "nbformat": 4,
 "nbformat_minor": 2
}
