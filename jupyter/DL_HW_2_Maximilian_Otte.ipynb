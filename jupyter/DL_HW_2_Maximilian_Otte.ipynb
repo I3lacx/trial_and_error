{
 "cells": [
  {
   "cell_type": "code",
   "execution_count": 1,
   "metadata": {},
   "outputs": [],
   "source": [
    "import numpy as np\n",
    "\n",
    "def initialize(input_dim, hidden_dim, output_dim, batchsize):\n",
    "    W1 = np.random.randn(hidden_dim, input_dim) * 0.01\n",
    "    b1 = np.zeros((hidden_dim,))\n",
    "    W2 = np.random.randn(hidden_dim, hidden_dim) * 0.01\n",
    "    b2 = np.zeros((hidden_dim,))\n",
    "    W3 = np.random.randn(output_dim, hidden_dim) * 0.01\n",
    "    b3 = np.zeros((output_dim,))\n",
    "    #list of all network parameters\n",
    "    parameters = [W1, b1, W2, b2, W3, b3]\n",
    "    # minibatch of input instances\n",
    "    x = np.random.rand(input_dim, batchsize)\n",
    "    #ground truths\n",
    "    y = np.random.randn(output_dim, batchsize)\n",
    "    return parameters, x, y\n",
    "    \n",
    "class neural_network():\n",
    "    \"This class defines a basic neural network structure\"\n",
    "\n",
    "    def __init__(self, num_inputs, num_hidden1, num_hidden2, num_classes, batchsize):\n",
    "        \"\"\" Initializes the network with given number of layers and pre defined weights \"\"\"\n",
    "        #self.num_inputs = num_inputs\n",
    "        #self.num_hidden1 = num_hidden1\n",
    "        #self.num_hidden2 = num_hidden2\n",
    "        #self.num_classes = num_classes\n",
    "        self.parameters, self.x, self.y = initialize(num_inputs, num_hidden, num_classes, batchsize)\n",
    "        \n",
    "    def forward(self, single_input, y):\n",
    "        \"\"\"Computes the output of the neural network given the input\n",
    "        Returns a [class,2] sized vector with the certainty of the\n",
    "        prediction and the class id as a tupel\"\"\"\n",
    "        params = self.parameters\n",
    "        \n",
    "        l0 = single_input\n",
    "        l1 = self.sigmoid(np.matmul(layer_0, params[0]) + params[1])\n",
    "        l2 = np.matmul(layer_1, params[2]) + params[3]\n",
    "        l2_sig = self.activation(l2)\n",
    "        l3 = np.matmul(layer_2, params[4]) + params[5]\n",
    "        l3_sig = self.sigmoid(l3)\n",
    "        print(\"layer0: {}\\nlayer1: {}\\nlayer2: {}\\nlayer3: {}\\n---------\"\\\n",
    "              .format(layer_0,layer_1.round(2),layer_2.round(2),layer_3.round(2)))\n",
    "        \n",
    "        delta_l3 = 2*(l3_sig - y)*delta_sigmoid(l3)*l2_sig\n",
    "        delta_l3 = np.multiply(l3_error, delta_sigmoid(layer_2))\n",
    "        delta_l2 = np.multiply(delta_l3, delta_sigmoid(layer_1))\n",
    "        delta_l1 = np.multiply(delta_l2, delta_sigmoid(layer_0))\n",
    "        \n",
    "        return layer_3\n",
    " \n",
    "    def backward(self, loss):\n",
    "        delta_l3 = loss * delta_sigmoid()\n",
    "        \n",
    "    def squared_loss(self, x_pred, y):\n",
    "        \"\"\" Assumes the x and y as vectors like (3,1) or (7,1) etc.\"\"\"\n",
    "        assert x_pred.size == y.size, \"vectors not of same size x:{}, y:{}\".format(x_pred.size, y.size)\n",
    "        return 1/y.size * np.sum(1/2 * (x_pred - y)**2)\n",
    "        \n",
    "    def sigmoid(self, x):\n",
    "        \"\"\"The activation function is the sigmoid function\"\"\"\n",
    "        return 1/(1 + np.exp(-x))\n",
    "        \n",
    "    def delta_sigmoid(self, x):\n",
    "        \"\"\" The derivation of the sigmoid function\"\"\"\n",
    "        return self.sigmoid(x)*(1-self.sigmoid(x))\n",
    "        \n",
    "    def update(self, loss):\n",
    "        \"\"\"Updates weights of neural network based on the given loss.\n",
    "        Updates by a predifined optimization function\"\"\"\n",
    "        pass\n",
    "    "
   ]
  },
  {
   "cell_type": "code",
   "execution_count": 2,
   "metadata": {},
   "outputs": [],
   "source": [
    "def main():\n",
    "    x = np.matrix('0.13 0.68 0.80 0.57 0.97; 0.63 0.89 0.50 0.35 0.71; 0.50 0.23 0.24 0.79 0.50').T\n",
    "    nn = neural_network(3,4,4,2)\n",
    "    for instance in x:\n",
    "        print(instance.shape)\n",
    "        nn.predict(instance)\n",
    "\n",
    "def __init__():\n",
    "    main()"
   ]
  },
  {
   "cell_type": "code",
   "execution_count": 7,
   "metadata": {},
   "outputs": [
    {
     "name": "stdout",
     "output_type": "stream",
     "text": [
      "0.5\n"
     ]
    }
   ],
   "source": [
    "nn = neural_network(1,1,1,1)\n",
    "x = np.array([1,0])\n",
    "y = np.array([0,1])\n",
    "print(nn.squared_loss(x,y))"
   ]
  },
  {
   "cell_type": "code",
   "execution_count": 3,
   "metadata": {},
   "outputs": [
    {
     "name": "stdout",
     "output_type": "stream",
     "text": [
      "(1, 3)\n",
      "layer0: [[0.13 0.63 0.5 ]]\n",
      "layer1: [[0.57 0.89 0.87 0.74]]\n",
      "layer2: [[0.2  0.54 0.45 0.56]]\n",
      "layer3: [[-0.18 -0.15]]\n",
      "---------\n",
      "(1, 3)\n",
      "layer0: [[0.68 0.89 0.23]]\n",
      "layer1: [[0.61 0.87 0.86 0.91]]\n",
      "layer2: [[0.19 0.51 0.45 0.54]]\n",
      "layer3: [[-0.18 -0.15]]\n",
      "---------\n",
      "(1, 3)\n",
      "layer0: [[0.8  0.5  0.24]]\n",
      "layer1: [[0.56 0.75 0.85 0.89]]\n",
      "layer2: [[0.2  0.51 0.45 0.53]]\n",
      "layer3: [[-0.18 -0.15]]\n",
      "---------\n",
      "(1, 3)\n",
      "layer0: [[0.57 0.35 0.79]]\n",
      "layer1: [[0.48 0.85 0.89 0.72]]\n",
      "layer2: [[0.22 0.56 0.45 0.56]]\n",
      "layer3: [[-0.18 -0.16]]\n",
      "---------\n",
      "(1, 3)\n",
      "layer0: [[0.97 0.71 0.5 ]]\n",
      "layer1: [[0.54 0.86 0.88 0.9 ]]\n",
      "layer2: [[0.2  0.53 0.46 0.54]]\n",
      "layer3: [[-0.18 -0.15]]\n",
      "---------\n"
     ]
    }
   ],
   "source": [
    "__init__()"
   ]
  },
  {
   "cell_type": "code",
   "execution_count": null,
   "metadata": {},
   "outputs": [],
   "source": []
  }
 ],
 "metadata": {
  "kernelspec": {
   "display_name": "Python 3",
   "language": "python",
   "name": "python3"
  },
  "language_info": {
   "codemirror_mode": {
    "name": "ipython",
    "version": 3
   },
   "file_extension": ".py",
   "mimetype": "text/x-python",
   "name": "python",
   "nbconvert_exporter": "python",
   "pygments_lexer": "ipython3",
   "version": "3.6.4"
  }
 },
 "nbformat": 4,
 "nbformat_minor": 2
}
