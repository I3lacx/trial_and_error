{
 "cells": [
  {
   "cell_type": "code",
   "execution_count": 1,
   "metadata": {},
   "outputs": [
    {
     "name": "stderr",
     "output_type": "stream",
     "text": [
      "E:\\Anaconda3\\lib\\site-packages\\h5py\\__init__.py:36: FutureWarning: Conversion of the second argument of issubdtype from `float` to `np.floating` is deprecated. In future, it will be treated as `np.float64 == np.dtype(float).type`.\n",
      "  from ._conv import register_converters as _register_converters\n"
     ]
    }
   ],
   "source": [
    "import tensorflow as tf\n",
    "import numpy as np\n",
    "from observations import mnist"
   ]
  },
  {
   "cell_type": "code",
   "execution_count": 2,
   "metadata": {},
   "outputs": [],
   "source": [
    "(x_train, y_train), (x_test, y_test) = mnist(\"data/\")"
   ]
  },
  {
   "cell_type": "code",
   "execution_count": 3,
   "metadata": {},
   "outputs": [],
   "source": [
    "def load_mnist():\n",
    "    (train_im, train_lab), (test_im, test_lab) = mnist('data/mnist')\n",
    "    train_im_mean = np.mean(train_im, 0)\n",
    "    train_im_std = np.std(train_im, 0)\n",
    "\n",
    "    std_eps = 1e-7\n",
    "    train_im = (train_im - train_im_mean) / (train_im_std + std_eps)\n",
    "    test_im = (test_im - train_im_mean) / (train_im_std + std_eps)\n",
    "\n",
    "    # train_im /= 255.0\n",
    "    # test_im /= 255.0\n",
    "    return (train_im, train_lab), (test_im, test_lab)"
   ]
  },
  {
   "cell_type": "code",
   "execution_count": 4,
   "metadata": {},
   "outputs": [],
   "source": [
    "def one_hot(vector):\n",
    "    out = np.zeros((10))\n",
    "    out[vector-1] = 1\n",
    "    return out"
   ]
  },
  {
   "cell_type": "code",
   "execution_count": 5,
   "metadata": {},
   "outputs": [],
   "source": [
    "def conv_layer(data_in, size_in, size_out):\n",
    "    with tf.name_scope(\"conv_\"):\n",
    "        nn_filter = tf.Variable(tf.truncated_normal((5,5,size_in, size_out),name=\"Weights\"))\n",
    "        bias = tf.Variable(tf.constant(0.1, shape=[size_out]), name=\"bias\")\n",
    "        conv_layer = tf.nn.conv2d(data_in, nn_filter, [1,1,1,1], \"SAME\")\n",
    "        act = tf.nn.relu(conv_layer + bias)\n",
    "        return tf.nn.max_pool(act,[1,2,2,1],strides=[1,1,1,1],padding=\"SAME\",name=\"pooling\")"
   ]
  },
  {
   "cell_type": "code",
   "execution_count": 6,
   "metadata": {},
   "outputs": [],
   "source": [
    "def fully_connected(layer_in, size_in, size_out ):\n",
    "    with tf.name_scope(\"fc_\"):\n",
    "        weights = tf.Variable(tf.truncated_normal((size_in, size_out)), name=\"Weights\")\n",
    "        bias = tf.Variable(tf.constant(0.1, shape=[size_out]), name=\"bias\")\n",
    "        act = tf.matmul(layer_in, weights) + bias\n",
    "        return act"
   ]
  },
  {
   "cell_type": "code",
   "execution_count": null,
   "metadata": {},
   "outputs": [],
   "source": [
    "def mnist_model(learning_rate):\n",
    "    \n",
    "    (x_train, y_train), _ = load_mnist()\n",
    "    y_train = [one_hot(y) for y in y_train]\n",
    "    sess = tf.Session()\n",
    "    \n",
    "    batch_size = 100\n",
    "    x = tf.placeholder(tf.float32, shape=[None, 784], name=\"X\")\n",
    "    x_image = tf.reshape(x, [-1,28,28,1])\n",
    "    y = tf.placeholder(tf.float32, shape=[None, 10], name=\"Y\")\n",
    "    \n",
    "    conv = conv_layer(x_image, 1, 100)\n",
    "    flattened = tf.reshape(conv, [-1, 28*28*100])\n",
    "    logits = fully_connected(flattened, 28*28*100, 10)\n",
    "    \n",
    "    xent = tf.reduce_mean(tf.nn.softmax_cross_entropy_with_logits(logits=logits, labels=y))\n",
    "    \n",
    "    train_step= tf.train.AdamOptimizer(learning_rate).minimize(xent)\n",
    "    corr_prediction = tf.equal(tf.argmax(logits, 1), tf.argmax(y,1))\n",
    "    accuracy = tf.reduce_mean(tf.cast(corr_prediction, tf.float32))\n",
    "    \n",
    "    sess.run(tf.global_variables_initializer())\n",
    "    \n",
    "    batches_per_epoch = x_train.shape[0] // batch_size\n",
    "    for i in range(20):\n",
    "        for j in range(batches_per_epoch):\n",
    "            x_batch = x_train[j * batch_size: (j+1) * batch_size]\n",
    "            y_batch = y_train[j * batch_size: (j+1) * batch_size]\n",
    "            \n",
    "            sess.run(train_step, feed_dict={x:x_batch, y:y_batch})\n"
   ]
  },
  {
   "cell_type": "code",
   "execution_count": null,
   "metadata": {},
   "outputs": [
    {
     "name": "stdout",
     "output_type": "stream",
     "text": [
      "WARNING:tensorflow:From <ipython-input-7-d2aa538bf8b5>:16: softmax_cross_entropy_with_logits (from tensorflow.python.ops.nn_ops) is deprecated and will be removed in a future version.\n",
      "Instructions for updating:\n",
      "\n",
      "Future major versions of TensorFlow will allow gradients to flow\n",
      "into the labels input on backprop by default.\n",
      "\n",
      "See tf.nn.softmax_cross_entropy_with_logits_v2.\n",
      "\n"
     ]
    }
   ],
   "source": [
    "mnist_model(0.3)"
   ]
  },
  {
   "cell_type": "code",
   "execution_count": null,
   "metadata": {},
   "outputs": [],
   "source": []
  }
 ],
 "metadata": {
  "kernelspec": {
   "display_name": "Python 3",
   "language": "python",
   "name": "python3"
  },
  "language_info": {
   "codemirror_mode": {
    "name": "ipython",
    "version": 3
   },
   "file_extension": ".py",
   "mimetype": "text/x-python",
   "name": "python",
   "nbconvert_exporter": "python",
   "pygments_lexer": "ipython3",
   "version": "3.6.4"
  }
 },
 "nbformat": 4,
 "nbformat_minor": 2
}
