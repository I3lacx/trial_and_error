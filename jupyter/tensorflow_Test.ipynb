{
 "cells": [
  {
   "cell_type": "code",
   "execution_count": 1,
   "metadata": {},
   "outputs": [
    {
     "name": "stderr",
     "output_type": "stream",
     "text": [
      "/home/maxi/anaconda3/lib/python3.6/site-packages/h5py/__init__.py:36: FutureWarning: Conversion of the second argument of issubdtype from `float` to `np.floating` is deprecated. In future, it will be treated as `np.float64 == np.dtype(float).type`.\n",
      "  from ._conv import register_converters as _register_converters\n"
     ]
    }
   ],
   "source": [
    "import tensorflow as tf\n",
    "import numpy as np\n",
    "import matplotlib.pyplot as plt\n",
    "\n",
    "session = tf.InteractiveSession()"
   ]
  },
  {
   "cell_type": "code",
   "execution_count": 2,
   "metadata": {},
   "outputs": [],
   "source": [
    "a = tf.constant(5)\n",
    "b = tf.constant(3)\n",
    "c = a+b"
   ]
  },
  {
   "cell_type": "code",
   "execution_count": 3,
   "metadata": {},
   "outputs": [],
   "source": [
    "x = tf.placeholder('float32', shape=(4,4))\n",
    "y = tf.placeholder('float32', shape=(4,1))\n",
    "w1 = tf.matmul(x,y)"
   ]
  },
  {
   "cell_type": "code",
   "execution_count": null,
   "metadata": {},
   "outputs": [],
   "source": []
  },
  {
   "cell_type": "code",
   "execution_count": 4,
   "metadata": {},
   "outputs": [
    {
     "data": {
      "text/plain": [
       "array([[1.44675  ],\n",
       "       [2.7969532],\n",
       "       [2.1012783],\n",
       "       [1.9890685]], dtype=float32)"
      ]
     },
     "execution_count": 4,
     "metadata": {},
     "output_type": "execute_result"
    }
   ],
   "source": [
    "x_in = np.random.rand(4,4)\n",
    "y_in = np.ones((4,1))\n",
    "w1.eval(feed_dict={x: x_in, y: y_in})\n"
   ]
  },
  {
   "cell_type": "code",
   "execution_count": 5,
   "metadata": {},
   "outputs": [],
   "source": [
    "class neural_network():\n",
    "    \n",
    "    def __init__(self):\n",
    "        self.defineWeights()\n",
    "    \n",
    "    def predict(self):\n",
    "        pass\n",
    "    \n",
    "    def defineWeights(self):\n",
    "        w1 = self.randomMatrix(5,5)\n",
    "        self.w1 = tf.Variable(w1)\n",
    "        \n",
    "    def randomMatrix(self, height, width):\n",
    "        a = np.random.uniform(-1,1,height*width)\n",
    "        a = np.array(a)\n",
    "        a = a.reshape(height,width)\n",
    "        return a"
   ]
  },
  {
   "cell_type": "code",
   "execution_count": 19,
   "metadata": {},
   "outputs": [],
   "source": [
    "j = tf.Variable(tf.random_normal([5,4],seed=123),name=\"variablehey\")"
   ]
  },
  {
   "cell_type": "code",
   "execution_count": 20,
   "metadata": {},
   "outputs": [
    {
     "data": {
      "text/plain": [
       "array([[ 2.4435377 ,  0.6532978 , -2.0876322 , -0.6465399 ],\n",
       "       [ 0.50398946, -0.6622369 ,  2.248099  , -0.6057031 ],\n",
       "       [-0.74135935,  2.5471828 ,  2.9152145 , -1.3031693 ],\n",
       "       [ 0.8121961 , -0.06042745, -1.4342147 ,  1.987995  ],\n",
       "       [ 0.46523282,  1.1759586 ,  0.43213287, -0.33148676]],\n",
       "      dtype=float32)"
      ]
     },
     "execution_count": 20,
     "metadata": {},
     "output_type": "execute_result"
    }
   ],
   "source": [
    "initi = tf.global_variables_initializer()\n",
    "session.run(initi)\n",
    "j.eval()"
   ]
  },
  {
   "cell_type": "code",
   "execution_count": null,
   "metadata": {},
   "outputs": [],
   "source": []
  }
 ],
 "metadata": {
  "kernelspec": {
   "display_name": "Python 3",
   "language": "python",
   "name": "python3"
  },
  "language_info": {
   "codemirror_mode": {
    "name": "ipython",
    "version": 3
   },
   "file_extension": ".py",
   "mimetype": "text/x-python",
   "name": "python",
   "nbconvert_exporter": "python",
   "pygments_lexer": "ipython3",
   "version": "3.6.4"
  }
 },
 "nbformat": 4,
 "nbformat_minor": 2
}
